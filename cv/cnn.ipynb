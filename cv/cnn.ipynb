{
  "nbformat": 4,
  "nbformat_minor": 0,
  "metadata": {
    "colab": {
      "provenance": [],
      "gpuType": "T4"
    },
    "kernelspec": {
      "name": "python3",
      "display_name": "Python 3"
    },
    "language_info": {
      "name": "python"
    },
    "accelerator": "GPU"
  },
  "cells": [
    {
      "cell_type": "code",
      "execution_count": 1,
      "metadata": {
        "id": "zqU9AibKcxk4"
      },
      "outputs": [],
      "source": [
        "import matplotlib.pyplot as plt\n",
        "import numpy as np\n",
        "import torchvision\n",
        "import tensorflow as tf\n",
        "import torch\n",
        "import torch.nn as nn\n",
        "import torch.nn.functional as F\n",
        "import torch.optim as optim\n",
        "from torch.utils.data import DataLoader, Dataset, TensorDataset\n",
        "from torchvision.io import read_image, ImageReadMode\n",
        "from pathlib import Path\n",
        "from sklearn.preprocessing import LabelEncoder\n",
        "from PIL import Image, ImageDraw, ImageFont\n",
        "from torchvision import transforms\n",
        "import random\n",
        "import os\n",
        "import zipfile\n",
        "\n",
        "from sklearn.model_selection import train_test_split\n",
        "from torchvision.models import resnet50, ResNet50_Weights"
      ]
    },
    {
      "cell_type": "code",
      "source": [
        "from google.colab import drive"
      ],
      "metadata": {
        "id": "89f4uvwAc0-P"
      },
      "execution_count": 2,
      "outputs": []
    },
    {
      "cell_type": "code",
      "source": [
        "drive.mount('/content/drive')"
      ],
      "metadata": {
        "colab": {
          "base_uri": "https://localhost:8080/"
        },
        "id": "I4On474Pc_mE",
        "outputId": "e0460b0d-306a-4013-85a1-f4f26ce03613"
      },
      "execution_count": 3,
      "outputs": [
        {
          "output_type": "stream",
          "name": "stdout",
          "text": [
            "Drive already mounted at /content/drive; to attempt to forcibly remount, call drive.mount(\"/content/drive\", force_remount=True).\n"
          ]
        }
      ]
    },
    {
      "cell_type": "code",
      "source": [
        "!ls '/content/drive/MyDrive/Team 5/img/cnn_imgs'"
      ],
      "metadata": {
        "colab": {
          "base_uri": "https://localhost:8080/"
        },
        "id": "LyYQ0dvCdBIv",
        "outputId": "eaf94367-fd41-4448-9105-d9eb1e609eaf"
      },
      "execution_count": 4,
      "outputs": [
        {
          "output_type": "stream",
          "name": "stdout",
          "text": [
            "banana\tboxA  boxB  boxC  boxD\tboxE  monkey\n"
          ]
        }
      ]
    },
    {
      "cell_type": "code",
      "source": [
        "categories = [\"boxA\", \"banana\", \"monkey\", \"boxB\", \"boxC\", \"boxD\", \"boxE\"]"
      ],
      "metadata": {
        "id": "a3RCM_bYdnhe"
      },
      "execution_count": 5,
      "outputs": []
    },
    {
      "cell_type": "code",
      "source": [
        "cat_to_label = {c: i for i,c in enumerate(categories)}"
      ],
      "metadata": {
        "id": "_w2Q37M9vGzR"
      },
      "execution_count": 6,
      "outputs": []
    },
    {
      "cell_type": "code",
      "source": [
        "root_dir =  '/content/drive/MyDrive/Team 5/img/cnn_imgs'"
      ],
      "metadata": {
        "id": "hKlIXa2FoOKr"
      },
      "execution_count": 7,
      "outputs": []
    },
    {
      "cell_type": "code",
      "source": [
        "for folder in categories:\n",
        "    folder_path = os.path.join(root_dir, folder)\n",
        "\n",
        "    if os.path.exists(folder_path):\n",
        "        num_files = len(os.listdir(folder_path))\n",
        "        print(f\"Folder: {folder}, Number of files: {num_files}\")"
      ],
      "metadata": {
        "id": "kiOnQJGutInV",
        "outputId": "b613da2a-841c-4334-e15e-2637fa3b2623",
        "colab": {
          "base_uri": "https://localhost:8080/"
        }
      },
      "execution_count": 8,
      "outputs": [
        {
          "output_type": "stream",
          "name": "stdout",
          "text": [
            "Folder: boxA, Number of files: 72\n",
            "Folder: banana, Number of files: 111\n",
            "Folder: monkey, Number of files: 99\n",
            "Folder: boxB, Number of files: 53\n",
            "Folder: boxC, Number of files: 45\n",
            "Folder: boxD, Number of files: 27\n",
            "Folder: boxE, Number of files: 10\n"
          ]
        }
      ]
    },
    {
      "cell_type": "code",
      "source": [
        "cat_label = []\n",
        "path_label = []\n",
        "images = []\n",
        "\n",
        "for label_folder in os.listdir(root_dir):\n",
        "  print(label_folder)\n",
        "  label_path = os.path.join(root_dir, label_folder)\n",
        "  if os.path.isdir(label_path):\n",
        "    for file_name in os.listdir(label_path):\n",
        "      file_path = os.path.join(label_path, file_name)\n",
        "      if file_name.lower().endswith(('.png')):\n",
        "          img = Image.open(file_path).convert(\"RGB\")\n",
        "          resize_transform = transforms.Resize((32, 32))\n",
        "          img_resized = resize_transform(img)\n",
        "\n",
        "          to_tensor = transforms.ToTensor()\n",
        "          img_tensor = to_tensor(img_resized)\n",
        "\n",
        "          images.append(img_tensor)\n",
        "          cat_label.append(label_folder)\n",
        "          path_label.append(file_path)\n"
      ],
      "metadata": {
        "id": "6w6I40tndt_O",
        "colab": {
          "base_uri": "https://localhost:8080/"
        },
        "outputId": "ed758e32-553d-4a3d-d784-435707a336c7"
      },
      "execution_count": 9,
      "outputs": [
        {
          "output_type": "stream",
          "name": "stdout",
          "text": [
            "boxA\n",
            "banana\n",
            "monkey\n",
            "boxB\n",
            "boxC\n",
            "boxD\n",
            "boxE\n"
          ]
        }
      ]
    },
    {
      "cell_type": "code",
      "source": [
        "from collections import Counter\n",
        "label_counts = Counter(cat_label)\n",
        "\n",
        "# Print the count of each label\n",
        "for label in categories:\n",
        "    print(f\"{label}: {label_counts[label]}\")"
      ],
      "metadata": {
        "id": "eyjtmRiJ0W2L",
        "outputId": "d3d169a0-15e8-4e9d-baf0-a5200000bb2b",
        "colab": {
          "base_uri": "https://localhost:8080/"
        }
      },
      "execution_count": 10,
      "outputs": [
        {
          "output_type": "stream",
          "name": "stdout",
          "text": [
            "boxA: 72\n",
            "banana: 111\n",
            "monkey: 99\n",
            "boxB: 53\n",
            "boxC: 45\n",
            "boxD: 27\n",
            "boxE: 10\n"
          ]
        }
      ]
    },
    {
      "cell_type": "code",
      "source": [
        "len(images)"
      ],
      "metadata": {
        "colab": {
          "base_uri": "https://localhost:8080/"
        },
        "id": "AAXZDlLkd0Gm",
        "outputId": "30fa1bd7-d5cb-4943-8719-f2598de489e9"
      },
      "execution_count": 13,
      "outputs": [
        {
          "output_type": "execute_result",
          "data": {
            "text/plain": [
              "417"
            ]
          },
          "metadata": {},
          "execution_count": 13
        }
      ]
    },
    {
      "cell_type": "code",
      "source": [
        "images = torch.stack(images)"
      ],
      "metadata": {
        "id": "dUsGBUIwudkY"
      },
      "execution_count": 14,
      "outputs": []
    },
    {
      "cell_type": "code",
      "source": [
        "model = nn.Sequential(\n",
        "    nn.Conv2d(in_channels=3, out_channels=32, kernel_size=3, stride=1, padding=1),\n",
        "    nn.ReLU(),\n",
        "    nn.MaxPool2d(kernel_size=2, stride=2),\n",
        "\n",
        "    nn.Conv2d(in_channels=32, out_channels=64, kernel_size=3, stride=1, padding=1),\n",
        "    nn.ReLU(),\n",
        "    nn.MaxPool2d(kernel_size=2, stride=2),\n",
        "\n",
        "    nn.Conv2d(in_channels=64, out_channels=128, kernel_size=3, stride=1, padding=1),\n",
        "    nn.ReLU(),\n",
        "    nn.MaxPool2d(kernel_size=2, stride=2),\n",
        "\n",
        "    nn.Flatten(),\n",
        "\n",
        "    nn.Linear(128 * 4* 4, 128),\n",
        "    nn.ReLU(),\n",
        "    nn.Dropout(0.5),\n",
        "    nn.Linear(128, 7)\n",
        ")"
      ],
      "metadata": {
        "id": "fG3-LBofe1vz"
      },
      "execution_count": 15,
      "outputs": []
    },
    {
      "cell_type": "code",
      "source": [
        "criterion = nn.CrossEntropyLoss()\n",
        "optimizer = optim.Adam(model.parameters(), lr=0.001)"
      ],
      "metadata": {
        "id": "Dcb8yInte4_u"
      },
      "execution_count": 16,
      "outputs": []
    },
    {
      "cell_type": "code",
      "source": [
        "X_train, X_test, y_train, y_test = train_test_split(images, cat_label, test_size=0.25, random_state=51)"
      ],
      "metadata": {
        "id": "zZVwRbsktwWE"
      },
      "execution_count": 17,
      "outputs": []
    },
    {
      "cell_type": "code",
      "source": [
        "X_train, X_val, y_train, y_val = train_test_split(X_train, y_train, test_size=0.25, random_state=51)"
      ],
      "metadata": {
        "id": "XekN9ETNuJTP"
      },
      "execution_count": 18,
      "outputs": []
    },
    {
      "cell_type": "code",
      "source": [
        "label_encoder = LabelEncoder()\n",
        "y_train_int = label_encoder.fit_transform(y_train)\n",
        "y_test_int = label_encoder.transform(y_test)"
      ],
      "metadata": {
        "id": "LGcL4soAvZTs"
      },
      "execution_count": 19,
      "outputs": []
    },
    {
      "cell_type": "code",
      "source": [
        "import joblib\n",
        "joblib.dump(label_encoder, 'label_encoder.pkl')"
      ],
      "metadata": {
        "id": "u41Edhax5vf3",
        "outputId": "e6f24478-935d-4f8e-ca9d-4a69435b33ab",
        "colab": {
          "base_uri": "https://localhost:8080/"
        }
      },
      "execution_count": 30,
      "outputs": [
        {
          "output_type": "execute_result",
          "data": {
            "text/plain": [
              "['label_encoder.pkl']"
            ]
          },
          "metadata": {},
          "execution_count": 30
        }
      ]
    },
    {
      "cell_type": "code",
      "source": [
        "X_train_tensor = X_train.float()\n",
        "y_train_tensor = torch.tensor(y_train_int, dtype=torch.long)\n",
        "\n",
        "X_test_tensor = X_test.float()\n",
        "y_test_tensor = torch.tensor(y_test_int, dtype=torch.long)\n",
        "\n",
        "train_dataset = TensorDataset(X_train_tensor, y_train_tensor)\n",
        "test_dataset = TensorDataset(X_test_tensor, y_test_tensor)\n",
        "\n",
        "batch_size = 2\n",
        "train_loader = DataLoader(train_dataset, batch_size=batch_size, shuffle=True)\n",
        "test_loader = DataLoader(test_dataset, batch_size=batch_size, shuffle=False)\n"
      ],
      "metadata": {
        "id": "H3jHSn4Tur-R"
      },
      "execution_count": 21,
      "outputs": []
    },
    {
      "cell_type": "code",
      "source": [
        "X_train_tensor.shape"
      ],
      "metadata": {
        "colab": {
          "base_uri": "https://localhost:8080/"
        },
        "id": "uTvq3W_EgGtr",
        "outputId": "1c8b8353-d2ea-427e-f826-bd23caf2d885"
      },
      "execution_count": 22,
      "outputs": [
        {
          "output_type": "execute_result",
          "data": {
            "text/plain": [
              "torch.Size([234, 3, 32, 32])"
            ]
          },
          "metadata": {},
          "execution_count": 22
        }
      ]
    },
    {
      "cell_type": "code",
      "source": [
        "X_test_tensor.shape"
      ],
      "metadata": {
        "colab": {
          "base_uri": "https://localhost:8080/"
        },
        "id": "swfN81cUgIym",
        "outputId": "e5e915f6-abe2-458c-d352-047f9e6ea6da"
      },
      "execution_count": 23,
      "outputs": [
        {
          "output_type": "execute_result",
          "data": {
            "text/plain": [
              "torch.Size([105, 3, 32, 32])"
            ]
          },
          "metadata": {},
          "execution_count": 23
        }
      ]
    },
    {
      "cell_type": "code",
      "source": [
        "num_epochs = 100\n",
        "for epoch in range(num_epochs):\n",
        "    model.train()\n",
        "    running_loss = 0.0\n",
        "    correct = 0\n",
        "    total = 0\n",
        "\n",
        "    for inputs, labels in train_loader:\n",
        "        optimizer.zero_grad()\n",
        "\n",
        "        outputs = model(inputs)\n",
        "        loss = criterion(outputs, labels)\n",
        "\n",
        "        loss.backward()\n",
        "        optimizer.step()\n",
        "\n",
        "        running_loss += loss.item()\n",
        "        _, predicted = torch.max(outputs, 1)\n",
        "        total += labels.size(0)\n",
        "        correct += (predicted == labels).sum().item()\n",
        "\n",
        "    epoch_loss = running_loss / len(train_loader)\n",
        "    epoch_accuracy = 100 * correct / total\n",
        "    print(f\"Epoch [{epoch+1}/{num_epochs}], Loss: {epoch_loss:.4f}, Accuracy: {epoch_accuracy:.2f}%\")"
      ],
      "metadata": {
        "colab": {
          "base_uri": "https://localhost:8080/"
        },
        "id": "LQ1UgOKBfOi3",
        "outputId": "3b50549d-306a-4963-89ba-25eef93ef844"
      },
      "execution_count": 24,
      "outputs": [
        {
          "output_type": "stream",
          "name": "stdout",
          "text": [
            "Epoch [1/100], Loss: 1.4813, Accuracy: 37.18%\n",
            "Epoch [2/100], Loss: 0.9187, Accuracy: 64.10%\n",
            "Epoch [3/100], Loss: 0.7462, Accuracy: 71.79%\n",
            "Epoch [4/100], Loss: 0.5876, Accuracy: 79.49%\n",
            "Epoch [5/100], Loss: 0.4658, Accuracy: 85.90%\n",
            "Epoch [6/100], Loss: 0.3422, Accuracy: 91.45%\n",
            "Epoch [7/100], Loss: 0.2072, Accuracy: 93.16%\n",
            "Epoch [8/100], Loss: 0.2413, Accuracy: 93.59%\n",
            "Epoch [9/100], Loss: 0.3002, Accuracy: 92.31%\n",
            "Epoch [10/100], Loss: 0.1907, Accuracy: 96.58%\n",
            "Epoch [11/100], Loss: 0.1251, Accuracy: 97.01%\n",
            "Epoch [12/100], Loss: 0.1414, Accuracy: 97.01%\n",
            "Epoch [13/100], Loss: 0.0988, Accuracy: 97.86%\n",
            "Epoch [14/100], Loss: 0.1185, Accuracy: 97.01%\n",
            "Epoch [15/100], Loss: 0.1495, Accuracy: 95.73%\n",
            "Epoch [16/100], Loss: 0.0834, Accuracy: 97.86%\n",
            "Epoch [17/100], Loss: 0.1057, Accuracy: 97.01%\n",
            "Epoch [18/100], Loss: 0.0832, Accuracy: 98.72%\n",
            "Epoch [19/100], Loss: 0.0701, Accuracy: 97.86%\n",
            "Epoch [20/100], Loss: 0.0611, Accuracy: 99.15%\n",
            "Epoch [21/100], Loss: 0.0770, Accuracy: 99.15%\n",
            "Epoch [22/100], Loss: 0.0513, Accuracy: 98.72%\n",
            "Epoch [23/100], Loss: 0.2269, Accuracy: 97.01%\n",
            "Epoch [24/100], Loss: 0.1108, Accuracy: 97.44%\n",
            "Epoch [25/100], Loss: 0.0741, Accuracy: 98.72%\n",
            "Epoch [26/100], Loss: 0.0722, Accuracy: 98.72%\n",
            "Epoch [27/100], Loss: 0.0846, Accuracy: 98.29%\n",
            "Epoch [28/100], Loss: 0.0865, Accuracy: 98.72%\n",
            "Epoch [29/100], Loss: 0.0761, Accuracy: 98.72%\n",
            "Epoch [30/100], Loss: 0.1057, Accuracy: 97.01%\n",
            "Epoch [31/100], Loss: 0.0610, Accuracy: 98.72%\n",
            "Epoch [32/100], Loss: 0.0841, Accuracy: 98.29%\n",
            "Epoch [33/100], Loss: 0.0491, Accuracy: 99.15%\n",
            "Epoch [34/100], Loss: 0.0399, Accuracy: 99.15%\n",
            "Epoch [35/100], Loss: 0.0770, Accuracy: 98.72%\n",
            "Epoch [36/100], Loss: 0.0496, Accuracy: 99.15%\n",
            "Epoch [37/100], Loss: 0.0691, Accuracy: 99.15%\n",
            "Epoch [38/100], Loss: 0.0516, Accuracy: 98.72%\n",
            "Epoch [39/100], Loss: 0.0500, Accuracy: 99.15%\n",
            "Epoch [40/100], Loss: 0.0529, Accuracy: 99.15%\n",
            "Epoch [41/100], Loss: 0.0601, Accuracy: 98.72%\n",
            "Epoch [42/100], Loss: 0.0825, Accuracy: 98.29%\n",
            "Epoch [43/100], Loss: 0.1104, Accuracy: 98.72%\n",
            "Epoch [44/100], Loss: 0.1289, Accuracy: 96.15%\n",
            "Epoch [45/100], Loss: 0.0730, Accuracy: 98.29%\n",
            "Epoch [46/100], Loss: 0.0362, Accuracy: 99.15%\n",
            "Epoch [47/100], Loss: 0.0745, Accuracy: 98.29%\n",
            "Epoch [48/100], Loss: 0.0754, Accuracy: 99.15%\n",
            "Epoch [49/100], Loss: 0.0398, Accuracy: 99.15%\n",
            "Epoch [50/100], Loss: 0.0627, Accuracy: 98.72%\n",
            "Epoch [51/100], Loss: 0.0697, Accuracy: 98.72%\n",
            "Epoch [52/100], Loss: 0.0752, Accuracy: 99.15%\n",
            "Epoch [53/100], Loss: 0.0586, Accuracy: 99.15%\n",
            "Epoch [54/100], Loss: 0.0452, Accuracy: 99.15%\n",
            "Epoch [55/100], Loss: 0.0701, Accuracy: 98.72%\n",
            "Epoch [56/100], Loss: 0.0505, Accuracy: 99.15%\n",
            "Epoch [57/100], Loss: 0.0468, Accuracy: 98.72%\n",
            "Epoch [58/100], Loss: 0.0547, Accuracy: 99.15%\n",
            "Epoch [59/100], Loss: 0.0435, Accuracy: 98.72%\n",
            "Epoch [60/100], Loss: 0.0772, Accuracy: 98.72%\n",
            "Epoch [61/100], Loss: 0.0377, Accuracy: 98.72%\n",
            "Epoch [62/100], Loss: 0.0906, Accuracy: 98.29%\n",
            "Epoch [63/100], Loss: 0.0663, Accuracy: 98.72%\n",
            "Epoch [64/100], Loss: 0.0638, Accuracy: 99.15%\n",
            "Epoch [65/100], Loss: 0.0649, Accuracy: 98.72%\n",
            "Epoch [66/100], Loss: 0.0568, Accuracy: 98.29%\n",
            "Epoch [67/100], Loss: 0.0682, Accuracy: 99.15%\n",
            "Epoch [68/100], Loss: 0.0829, Accuracy: 98.29%\n",
            "Epoch [69/100], Loss: 0.0738, Accuracy: 98.72%\n",
            "Epoch [70/100], Loss: 0.0675, Accuracy: 98.29%\n",
            "Epoch [71/100], Loss: 0.0402, Accuracy: 99.15%\n",
            "Epoch [72/100], Loss: 0.0642, Accuracy: 99.15%\n",
            "Epoch [73/100], Loss: 0.0487, Accuracy: 99.15%\n",
            "Epoch [74/100], Loss: 0.0493, Accuracy: 99.15%\n",
            "Epoch [75/100], Loss: 0.0413, Accuracy: 99.15%\n",
            "Epoch [76/100], Loss: 0.0546, Accuracy: 99.15%\n",
            "Epoch [77/100], Loss: 0.0468, Accuracy: 99.15%\n",
            "Epoch [78/100], Loss: 0.0579, Accuracy: 99.15%\n",
            "Epoch [79/100], Loss: 0.0504, Accuracy: 99.15%\n",
            "Epoch [80/100], Loss: 0.1107, Accuracy: 98.72%\n",
            "Epoch [81/100], Loss: 0.0759, Accuracy: 98.29%\n",
            "Epoch [82/100], Loss: 0.0772, Accuracy: 99.15%\n",
            "Epoch [83/100], Loss: 0.1263, Accuracy: 96.58%\n",
            "Epoch [84/100], Loss: 0.0892, Accuracy: 98.29%\n",
            "Epoch [85/100], Loss: 0.0681, Accuracy: 99.15%\n",
            "Epoch [86/100], Loss: 0.0585, Accuracy: 99.15%\n",
            "Epoch [87/100], Loss: 0.0809, Accuracy: 98.29%\n",
            "Epoch [88/100], Loss: 0.0517, Accuracy: 99.15%\n",
            "Epoch [89/100], Loss: 0.0494, Accuracy: 99.15%\n",
            "Epoch [90/100], Loss: 0.0532, Accuracy: 99.15%\n",
            "Epoch [91/100], Loss: 0.0641, Accuracy: 98.72%\n",
            "Epoch [92/100], Loss: 0.0388, Accuracy: 99.15%\n",
            "Epoch [93/100], Loss: 0.0665, Accuracy: 98.72%\n",
            "Epoch [94/100], Loss: 0.0787, Accuracy: 98.29%\n",
            "Epoch [95/100], Loss: 0.0417, Accuracy: 99.15%\n",
            "Epoch [96/100], Loss: 0.0442, Accuracy: 99.15%\n",
            "Epoch [97/100], Loss: 0.0513, Accuracy: 98.72%\n",
            "Epoch [98/100], Loss: 0.0424, Accuracy: 99.15%\n",
            "Epoch [99/100], Loss: 0.0451, Accuracy: 99.15%\n",
            "Epoch [100/100], Loss: 0.0375, Accuracy: 99.15%\n"
          ]
        }
      ]
    },
    {
      "cell_type": "code",
      "source": [
        "model.eval()\n",
        "val_correct = 0\n",
        "val_total = 0\n",
        "with torch.no_grad():\n",
        "    for val_inputs, val_labels in test_loader:\n",
        "        val_outputs = model(val_inputs)\n",
        "        _, val_predicted = torch.max(val_outputs, 1)\n",
        "        val_total += val_labels.size(0)\n",
        "        val_correct += (val_predicted == val_labels).sum().item()\n",
        "\n",
        "val_accuracy = 100 * val_correct / val_total\n",
        "print(f\"Test Accuracy: {val_accuracy:.2f}%\")\n"
      ],
      "metadata": {
        "id": "O9YKyUGEfbwN",
        "colab": {
          "base_uri": "https://localhost:8080/"
        },
        "outputId": "56a58b46-57e6-42f8-aace-6400c2a6ef3c"
      },
      "execution_count": 27,
      "outputs": [
        {
          "output_type": "stream",
          "name": "stdout",
          "text": [
            "Test Accuracy: 100.00%\n"
          ]
        }
      ]
    },
    {
      "cell_type": "code",
      "source": [
        "torch.save(model.state_dict(), 'cnn.pth')"
      ],
      "metadata": {
        "id": "Ala077tUjLU1"
      },
      "execution_count": 26,
      "outputs": []
    },
    {
      "cell_type": "code",
      "source": [],
      "metadata": {
        "id": "C58CRRoOhNUU"
      },
      "execution_count": 26,
      "outputs": []
    }
  ]
}